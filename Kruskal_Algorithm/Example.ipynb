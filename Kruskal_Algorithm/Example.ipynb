{
 "cells": [
  {
   "cell_type": "code",
   "execution_count": 92,
   "metadata": {},
   "outputs": [],
   "source": [
    "import Kruskal\n",
    "import pandas as pd\n",
    "from math import sqrt\n",
    "import numpy as np"
   ]
  },
  {
   "cell_type": "markdown",
   "metadata": {},
   "source": [
    "### Data Input & Preparation"
   ]
  },
  {
   "cell_type": "markdown",
   "metadata": {},
   "source": [
    "Importación lista de nodos:"
   ]
  },
  {
   "cell_type": "code",
   "execution_count": 85,
   "metadata": {},
   "outputs": [],
   "source": [
    "df1=pd.read_excel(\"Kruskal_HC.xlsx\",'V1')\n",
    "v_list=df1.values.tolist()\n",
    "\n",
    "n=len(v_list)"
   ]
  },
  {
   "cell_type": "markdown",
   "metadata": {},
   "source": [
    "Importación coordenadas de nodos"
   ]
  },
  {
   "cell_type": "code",
   "execution_count": 86,
   "metadata": {},
   "outputs": [],
   "source": [
    "df2=pd.read_excel(\"Kruskal_HC.xlsx\",'Coord')\n",
    "\n",
    "x_coord=list(df2.x)\n",
    "y_coord=list(df2.y)"
   ]
  },
  {
   "cell_type": "markdown",
   "metadata": {},
   "source": [
    "Cálculo de distancias entre nodos (peso de las aristas)"
   ]
  },
  {
   "cell_type": "code",
   "execution_count": 87,
   "metadata": {},
   "outputs": [],
   "source": [
    "def calculadora_distancias(a,b):\n",
    "    nodo_o=a\n",
    "    nodo_d=b\n",
    "    d=sqrt((nodo_o[0]-nodo_d[0])**2+(nodo_o[1]-nodo_d[1])**2)\n",
    "    d=round(d,1)\n",
    "    return d\n",
    "\n",
    "matriz_distancias=[]\n",
    "for i in range(n):\n",
    "    filas_matriz_distancia=[]\n",
    "    for j in range(n):\n",
    "        Dij=calculadora_distancias(coord[i],coord[j])\n",
    "        filas_matriz_distancia.append(Dij)\n",
    "    matriz_distancias.append(filas_matriz_distancia)"
   ]
  },
  {
   "cell_type": "markdown",
   "metadata": {},
   "source": [
    "Generación de instancias de vertices"
   ]
  },
  {
   "cell_type": "code",
   "execution_count": 88,
   "metadata": {},
   "outputs": [],
   "source": [
    "vertex_set = [Kruskal.Vertex(i+1) for i in range(n)]\n",
    "vertexlist = []\n",
    "for j in range(n):\n",
    "    vertexlist.append(vertex_set[j])"
   ]
  },
  {
   "cell_type": "markdown",
   "metadata": {},
   "source": [
    "Generar lista de aristas (peso y par de nodos)"
   ]
  },
  {
   "cell_type": "code",
   "execution_count": 89,
   "metadata": {},
   "outputs": [],
   "source": [
    "conjunto_aristas=[]\n",
    "for i in range(n):\n",
    "    for j in range(n):\n",
    "        if i<=j:\n",
    "            pass;\n",
    "        else:\n",
    "            arista=[]\n",
    "            arista.append(matriz_distancias[i][j])\n",
    "            nexo=[]\n",
    "            nexo.append(vertexlist[i])\n",
    "            nexo.append(vertexlist[j])\n",
    "            arista.append(nexo)\n",
    "            conjunto_aristas.append(arista)"
   ]
  },
  {
   "cell_type": "markdown",
   "metadata": {},
   "source": [
    "Generar instancias de vertices"
   ]
  },
  {
   "cell_type": "code",
   "execution_count": 90,
   "metadata": {},
   "outputs": [],
   "source": [
    "edge_set=[Kruskal.Edge(conjunto_aristas[i][0],conjunto_aristas[i][1][0],conjunto_aristas[i][1][1])for i in range(len(conjunto_aristas))]\n",
    "edgelist = []\n",
    "for j in range(len(conjunto_aristas)):\n",
    "    edgelist.append(edge_set[j])   "
   ]
  },
  {
   "cell_type": "markdown",
   "metadata": {},
   "source": [
    "### Cálculo del árbol parcial mínimo mediante el algoritmo de Kruskal"
   ]
  },
  {
   "cell_type": "code",
   "execution_count": 91,
   "metadata": {},
   "outputs": [
    {
     "name": "stdout",
     "output_type": "stream",
     "text": [
      "2 - 1\n",
      "10 - 5\n",
      "9 - 8\n",
      "5 - 4\n",
      "6 - 4\n",
      "4 - 3\n",
      "8 - 7\n",
      "3 - 2\n",
      "10 - 9\n"
     ]
    }
   ],
   "source": [
    "algorithm = Kruskal.algorithm();\n",
    "algorithm.constructSpanningTree(vertexlist, edgelist);          "
   ]
  },
  {
   "cell_type": "code",
   "execution_count": null,
   "metadata": {},
   "outputs": [],
   "source": []
  }
 ],
 "metadata": {
  "kernelspec": {
   "display_name": "Python 3",
   "language": "python",
   "name": "python3"
  },
  "language_info": {
   "codemirror_mode": {
    "name": "ipython",
    "version": 3
   },
   "file_extension": ".py",
   "mimetype": "text/x-python",
   "name": "python",
   "nbconvert_exporter": "python",
   "pygments_lexer": "ipython3",
   "version": "3.7.6"
  }
 },
 "nbformat": 4,
 "nbformat_minor": 4
}
